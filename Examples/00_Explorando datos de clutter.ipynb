{
 "cells": [
  {
   "cell_type": "markdown",
   "metadata": {},
   "source": [
    "# Explorando los datos de clutter"
   ]
  },
  {
   "cell_type": "markdown",
   "metadata": {},
   "source": [
    "Para este ejemplo usaremos los datos recolectados de clutter durante un período de condiciones libres de precipitación. Esto nos permitirá conocer la naturaleza y distribución de los mismos. "
   ]
  },
  {
   "cell_type": "markdown",
   "metadata": {},
   "source": [
    "Para ello comenzaremos importando algunas librerías:"
   ]
  },
  {
   "cell_type": "code",
   "execution_count": 2,
   "metadata": {},
   "outputs": [],
   "source": [
    "from pathlib import Path\n",
    "import wradlib as wrl\n",
    "import matplotlib.pyplot as plt\n",
    "import warnings \n",
    "\n",
    "warnings.filterwarnings('ignore')"
   ]
  },
  {
   "cell_type": "markdown",
   "metadata": {},
   "source": [
    "Importamos un módulo propio para leer los datos(este constituye una envoltura sobre la función de lectura de wradlib)."
   ]
  },
  {
   "cell_type": "code",
   "execution_count": 3,
   "metadata": {},
   "outputs": [],
   "source": [
    "import Bases_GUI as radar"
   ]
  },
  {
   "cell_type": "markdown",
   "metadata": {},
   "source": [
    "Configuramos la ruta en la cual se encuentran los archivos:"
   ]
  },
  {
   "cell_type": "code",
   "execution_count": 4,
   "metadata": {},
   "outputs": [],
   "source": [
    "ruta = 'C:\\Python37\\Clutter'"
   ]
  },
  {
   "cell_type": "markdown",
   "metadata": {},
   "source": [
    "Definimos una pequeña función para devolver los archivos en el directorio."
   ]
  },
  {
   "cell_type": "code",
   "execution_count": 5,
   "metadata": {},
   "outputs": [],
   "source": [
    "def files(ruta=Path.cwd()):\n",
    "    \"\"\"Devuelve una lista con los nombres de los archivos contenidos en la ruta especificada. Dicha lista no esta filtrada.\n",
    "    Argumentos :\n",
    "        ruta (pathlib.WindowsPath/str) Directorio o carpeta del cual se extraen los archivos\n",
    "    Salidas:\n",
    "        list_name (list)   Lista con los nombres relativos de los archivos. La extensión está incluida. \"\"\"\n",
    "    list_name = [arch.name for arch in Path(ruta).iterdir() if arch.is_file()]\n",
    "    return list_name"
   ]
  },
  {
   "cell_type": "markdown",
   "metadata": {},
   "source": [
    "Y otra para verificar que los archivos dentro del directorio sean válidos. "
   ]
  },
  {
   "cell_type": "code",
   "execution_count": 6,
   "metadata": {},
   "outputs": [],
   "source": [
    "def valids(lista):\n",
    "    \"\"\"Función de comprobación de los archivos de entrada. Devuelve una lista conn los elementos que presentan el formato .azi\n",
    "    Argumentos:\n",
    "        lista (list) Lista con las cadenas de caracteres a evaluar\n",
    "    Salidas:\n",
    "        list_valid  (list) Lista de las cadenas que terminan en .azi \"\"\"\n",
    "    list_valid = []\n",
    "    for element in lista:\n",
    "        if element.endswith('.azi'):\n",
    "            list_valid.append(element)\n",
    "    return list_valid"
   ]
  },
  {
   "cell_type": "code",
   "execution_count": 7,
   "metadata": {},
   "outputs": [],
   "source": [
    "list_name = files(ruta)\n",
    "list_valid = valids(list_name)"
   ]
  },
  {
   "cell_type": "code",
   "execution_count": 8,
   "metadata": {},
   "outputs": [
    {
     "name": "stdout",
     "output_type": "stream",
     "text": [
      "\n",
      "Análisis de Clutter\n",
      "Número de archivos: 63\n",
      "Número de archivos válidos: 63\n"
     ]
    }
   ],
   "source": [
    "print('\\nAnálisis de Clutter')\n",
    "print('Número de archivos:', len(list_name))\n",
    "print('Número de archivos válidos:', len(list_valid))\n",
    "    "
   ]
  },
  {
   "cell_type": "markdown",
   "metadata": {},
   "source": [
    "Creamos una pequeña función para leer los datos:"
   ]
  },
  {
   "cell_type": "code",
   "execution_count": 9,
   "metadata": {},
   "outputs": [],
   "source": [
    "def dataclass(ruta, list_relfile='Easter egg'):\n",
    "    \"\"\"Función para transformar una lista de nombres de archivos en objetos de la clase Radardata\n",
    "    Argumentos:\n",
    "        ruta (str) Cadena correspondiente al directorio\n",
    "        list_relfile (list) Lista de cadenas de caracteres que corresponden a los nombres relativos \n",
    "                            de los archivos del directorio\n",
    "    Salidas:\n",
    "        clutterdata (list) Lista con los objetos tipo Radardata de la ruta especificada. \n",
    "    En caso no se proporcione la lista, está se obtendra a partir de la ruta proporcionada\"\"\"\n",
    "    if list_relfile == 'Easter egg':\n",
    "        list_relfile = valids(files(ruta))\n",
    "    clutterdata = []\n",
    "    for rel_name in list_relfile:\n",
    "        abs_name = ruta + '/' + rel_name\n",
    "        clutterdata.append(radar.read_data(abs_name))\n",
    "    return clutterdata"
   ]
  },
  {
   "cell_type": "code",
   "execution_count": 10,
   "metadata": {},
   "outputs": [],
   "source": [
    "clutterdata = dataclass(ruta)"
   ]
  },
  {
   "cell_type": "markdown",
   "metadata": {},
   "source": [
    "La lista clutterdata contiene todos los objetos RadarData del directorio. Veremos que datos hemos seleccionado ... "
   ]
  },
  {
   "cell_type": "code",
   "execution_count": 11,
   "metadata": {},
   "outputs": [
    {
     "name": "stdout",
     "output_type": "stream",
     "text": [
      "\n",
      "Fechas y horas de los datos seleccionados:\n",
      "Hora local\n",
      "2019-05-02 16:50:00\n",
      "2019-05-02 17:00:00\n",
      "2019-05-02 17:05:00\n",
      "2019-05-02 17:10:00\n",
      "2019-05-02 17:15:00\n",
      "2019-05-02 17:20:00\n",
      "2019-05-03 12:55:00\n",
      "2019-05-03 13:00:00\n",
      "2019-05-03 13:05:00\n",
      "2019-05-03 13:10:00\n",
      "2019-05-03 16:00:00\n",
      "2019-05-03 16:05:00\n",
      "2019-05-03 16:10:00\n",
      "2019-05-03 16:15:00\n",
      "2019-05-03 16:20:00\n",
      "2019-05-03 16:25:00\n",
      "2019-06-19 19:00:00\n",
      "2019-06-19 19:05:00\n",
      "2019-06-19 19:10:00\n",
      "2019-06-19 19:15:00\n",
      "2019-06-19 19:20:00\n",
      "2019-06-19 19:25:00\n",
      "2019-06-19 19:30:00\n",
      "2019-06-19 19:35:00\n",
      "2019-06-19 19:40:00\n",
      "2019-06-19 19:45:00\n",
      "2019-06-19 19:50:00\n",
      "2019-06-19 19:55:00\n",
      "2019-06-19 20:00:00\n",
      "2019-06-19 20:05:00\n",
      "2019-06-19 20:10:00\n",
      "2019-06-19 20:15:00\n",
      "2019-06-19 20:20:00\n",
      "2019-06-19 20:25:00\n",
      "2019-06-19 20:30:00\n",
      "2019-06-19 20:35:00\n",
      "2019-06-19 20:40:00\n",
      "2019-06-19 20:45:00\n",
      "2019-06-19 20:50:00\n",
      "2019-06-19 20:55:00\n",
      "2019-06-19 21:00:00\n",
      "2019-06-19 21:05:00\n",
      "2019-06-19 21:10:00\n",
      "2019-06-19 21:15:00\n",
      "2019-06-19 21:20:00\n",
      "2019-06-19 21:25:00\n",
      "2019-06-19 21:30:00\n",
      "2019-06-19 21:35:00\n",
      "2019-06-19 21:40:00\n",
      "2019-06-19 21:45:00\n",
      "2019-06-19 21:50:00\n",
      "2019-06-19 21:55:00\n",
      "2019-06-19 22:00:00\n",
      "2019-06-19 22:05:00\n",
      "2019-06-19 22:10:00\n",
      "2019-06-19 22:15:00\n",
      "2019-06-19 22:20:00\n",
      "2019-06-19 22:25:00\n",
      "2019-06-19 22:30:00\n",
      "2019-06-19 22:35:00\n",
      "2019-06-19 22:40:00\n",
      "2019-06-19 22:45:00\n",
      "2019-06-19 22:50:00\n"
     ]
    }
   ],
   "source": [
    "    print('\\nFechas y horas de los datos seleccionados:')\n",
    "    print('Hora local')\n",
    "    for clutter in clutterdata:\n",
    "        clutter.set_fecha()\n",
    "        print(clutter.local_time)"
   ]
  },
  {
   "cell_type": "markdown",
   "metadata": {},
   "source": [
    "Abrimos uno de los datos como ejemplo:"
   ]
  },
  {
   "cell_type": "code",
   "execution_count": 12,
   "metadata": {},
   "outputs": [],
   "source": [
    "data = clutterdata[6].data['data']"
   ]
  },
  {
   "cell_type": "code",
   "execution_count": 13,
   "metadata": {},
   "outputs": [],
   "source": [
    "azi = clutterdata[6].data['azi']\n",
    "r = clutterdata[6].data['range']"
   ]
  },
  {
   "cell_type": "markdown",
   "metadata": {},
   "source": [
    "Los datos se encuentran en formato polar, especificamente en una matriz de dimensiones (360,1000)."
   ]
  },
  {
   "cell_type": "code",
   "execution_count": 14,
   "metadata": {},
   "outputs": [
    {
     "data": {
      "image/png": "[encoded data removed]",
      "text/plain": [
       "<Figure size 500x500 with 2 Axes>"
      ]
     },
     "metadata": {
      "needs_background": "light"
     },
     "output_type": "display_data"
    }
   ],
   "source": [
    "fig = plt.figure(figsize=(5,5), dpi=100)\n",
    "ax, pm = wrl.vis.plot_ppi(data, az=azi, r=r, fig=fig)\n",
    "plt.title('Dato de ejemplo')\n",
    "plt.xlabel('Rango (km)')\n",
    "plt.ylabel('Rango (km)')\n",
    "plt.colorbar(pm, shrink = 0.8)\n",
    "plt.show()"
   ]
  },
  {
   "cell_type": "markdown",
   "metadata": {},
   "source": [
    "Como te darás cuenta, el tamaño es demasiado pequeño para poder visualizar la concentración de clutter en las cercanías del radar."
   ]
  },
  {
   "cell_type": "code",
   "execution_count": 15,
   "metadata": {},
   "outputs": [
    {
     "data": {
      "text/plain": [
       "(-20, 20)"
      ]
     },
     "execution_count": 15,
     "metadata": {},
     "output_type": "execute_result"
    },
    {
     "data": {
      "image/png": "[encoded data removed]",
      "text/plain": [
       "<Figure size 500x500 with 2 Axes>"
      ]
     },
     "metadata": {
      "needs_background": "light"
     },
     "output_type": "display_data"
    }
   ],
   "source": [
    "fig = plt.figure(figsize=(5,5), dpi=100)\n",
    "ax, pm = wrl.vis.plot_ppi(data, az=azi, r=r, fig=fig)\n",
    "plt.title('Dato de ejemplo')\n",
    "plt.xlabel('Rango (km)')\n",
    "plt.ylabel('Rango (km)')\n",
    "plt.colorbar(pm, shrink = 0.8)\n",
    "plt.xlim(-20,20)\n",
    "plt.ylim(-20,20)"
   ]
  },
  {
   "cell_type": "markdown",
   "metadata": {},
   "source": [
    "En el siguiente cuaderno veremos como a partir de la data importada se pueden elaborar diversos cluttermap de manera sencilla."
   ]
  }
 ],
 "metadata": {
  "kernelspec": {
   "display_name": "Python 3",
   "language": "python",
   "name": "python3"
  },
  "language_info": {
   "codemirror_mode": {
    "name": "ipython",
    "version": 3
   },
   "file_extension": ".py",
   "mimetype": "text/x-python",
   "name": "python",
   "nbconvert_exporter": "python",
   "pygments_lexer": "ipython3",
   "version": "3.7.1"
  }
 },
 "nbformat": 4,
 "nbformat_minor": 2
}
